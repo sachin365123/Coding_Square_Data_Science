{
 "cells": [
  {
   "cell_type": "markdown",
   "id": "d43f5837",
   "metadata": {},
   "source": [
    "# Problem 1"
   ]
  },
  {
   "cell_type": "code",
   "execution_count": 37,
   "id": "717a5072",
   "metadata": {},
   "outputs": [],
   "source": [
    "import string\n",
    "alpha = string.ascii_lowercase\n",
    "\n",
    "def print_rangoli(size):\n",
    "    lines = []\n",
    "    for row in range(size):\n",
    "        to_print = \"-\".join(alpha[row:size])\n",
    "        lines.append(to_print[::-1] + to_print[1:])\n",
    "    width = len(lines[0])\n",
    "    print(lines)\n",
    "    \n",
    "    for row in range(size-1, 0, -1):\n",
    "        print(lines[row].center(width, '-'))\n",
    "        \n",
    "    for row in range(size):\n",
    "        print(lines[row].center(width, '-'))"
   ]
  },
  {
   "cell_type": "code",
   "execution_count": 38,
   "id": "66a0d514",
   "metadata": {},
   "outputs": [
    {
     "name": "stdout",
     "output_type": "stream",
     "text": [
      "['e-d-c-b-a-b-c-d-e', 'e-d-c-b-c-d-e', 'e-d-c-d-e', 'e-d-e', 'e']\n",
      "--------e--------\n",
      "------e-d-e------\n",
      "----e-d-c-d-e----\n",
      "--e-d-c-b-c-d-e--\n",
      "e-d-c-b-a-b-c-d-e\n",
      "--e-d-c-b-c-d-e--\n",
      "----e-d-c-d-e----\n",
      "------e-d-e------\n",
      "--------e--------\n"
     ]
    }
   ],
   "source": [
    "print_rangoli(5)"
   ]
  },
  {
   "cell_type": "code",
   "execution_count": 9,
   "id": "607defca",
   "metadata": {},
   "outputs": [
    {
     "data": {
      "text/plain": [
       "str"
      ]
     },
     "execution_count": 9,
     "metadata": {},
     "output_type": "execute_result"
    }
   ],
   "source": [
    "# for i in alpha:\n",
    "#     print(i)\n",
    "type(alpha)"
   ]
  },
  {
   "cell_type": "code",
   "execution_count": 41,
   "id": "9c2eb89a",
   "metadata": {},
   "outputs": [
    {
     "name": "stdout",
     "output_type": "stream",
     "text": [
      "e-d-c-b-a-b-c-d-e\n"
     ]
    }
   ],
   "source": [
    "lines=['e-d-c-b-a-b-c-d-e', 'e-d-c-b-c-d-e', 'e-d-c-d-e', 'e-d-e', 'e']\n",
    "print(lines[0].center(4, '-'))"
   ]
  },
  {
   "cell_type": "code",
   "execution_count": 42,
   "id": "f4168eac",
   "metadata": {},
   "outputs": [
    {
     "name": "stdout",
     "output_type": "stream",
     "text": [
      "--This is a centered string---\n"
     ]
    }
   ],
   "source": [
    "lines = [\"Hello, World!\", \"This is a centered string\", \"Python is fun\"]\n",
    "width = 30\n",
    "row = 1\n",
    "\n",
    "print(lines[row].center(width, '-'))\n"
   ]
  },
  {
   "cell_type": "code",
   "execution_count": 15,
   "id": "ab70d4c7",
   "metadata": {},
   "outputs": [
    {
     "name": "stdout",
     "output_type": "stream",
     "text": [
      "d-e-f-g-h-i-j\n"
     ]
    }
   ],
   "source": [
    "to_print = \"-\".join(alpha[3:10])\n",
    "print(to_print)"
   ]
  },
  {
   "cell_type": "code",
   "execution_count": 21,
   "id": "002dfe92",
   "metadata": {},
   "outputs": [],
   "source": [
    "import string\n",
    "alpha = string.ascii_lowercase\n",
    "\n",
    "def print_rangoli(size):\n",
    "    lines = []\n",
    "    for row in range(size):\n",
    "        to_print = \"-\".join(alpha[row:size])\n",
    "        lines.append(to_print[::-1] + to_print[1:])\n",
    "        print(to_print)\n",
    "        print(lines)"
   ]
  },
  {
   "cell_type": "code",
   "execution_count": 24,
   "id": "dfc21b4e",
   "metadata": {},
   "outputs": [
    {
     "name": "stdout",
     "output_type": "stream",
     "text": [
      "a-b-c-d\n",
      "['d-c-b-a-b-c-d']\n",
      "b-c-d\n",
      "['d-c-b-a-b-c-d', 'd-c-b-c-d']\n",
      "c-d\n",
      "['d-c-b-a-b-c-d', 'd-c-b-c-d', 'd-c-d']\n",
      "d\n",
      "['d-c-b-a-b-c-d', 'd-c-b-c-d', 'd-c-d', 'd']\n",
      "None\n"
     ]
    }
   ],
   "source": [
    "print(print_rangoli(4))"
   ]
  },
  {
   "cell_type": "code",
   "execution_count": null,
   "id": "91474ca5",
   "metadata": {},
   "outputs": [],
   "source": [
    "lines=[]\n",
    "to_print=[d-e-f-g-h-i-j]\n",
    "lines.append(to_print[])"
   ]
  },
  {
   "cell_type": "code",
   "execution_count": 33,
   "id": "096ce4c5",
   "metadata": {},
   "outputs": [
    {
     "name": "stdout",
     "output_type": "stream",
     "text": [
      "neevan\n",
      "neevan$aveen\n"
     ]
    }
   ],
   "source": [
    "lines='naveen'\n",
    "print(lines[::-1])\n",
    "print(lines[::-1]+'$'+lines[1:])"
   ]
  },
  {
   "cell_type": "code",
   "execution_count": null,
   "id": "e54aac84",
   "metadata": {},
   "outputs": [],
   "source": [
    "In Python3, ascii_lowercase is a pre-initialized string used as string constant. In Python, \n",
    "string ascii_lowercase will give the lowercase letters ‘abcdefghijklmnopqrstuvwxyz’."
   ]
  },
  {
   "cell_type": "code",
   "execution_count": 6,
   "id": "8a10fc83",
   "metadata": {},
   "outputs": [
    {
     "name": "stdout",
     "output_type": "stream",
     "text": [
      "abcdefghijklmnopqrstuvwxyz\n"
     ]
    }
   ],
   "source": [
    "# import string library function \n",
    "import string \n",
    "\t\n",
    "# Storing the value in variable result \n",
    "# result = string.ascii_uppercase \n",
    "result = string.ascii_lowercase \n",
    "\t\n",
    "# Printing the value \n",
    "print(result) \n"
   ]
  },
  {
   "cell_type": "code",
   "execution_count": 2,
   "id": "dcf251b5",
   "metadata": {},
   "outputs": [
    {
     "name": "stdout",
     "output_type": "stream",
     "text": [
      "----c----\n",
      "--c-b-c--\n",
      "c-b-a-b-c\n",
      "--c-b-c--\n",
      "----c----\n"
     ]
    }
   ],
   "source": [
    "print_rangoli(3)"
   ]
  },
  {
   "cell_type": "code",
   "execution_count": 3,
   "id": "82bbe29e",
   "metadata": {},
   "outputs": [
    {
     "name": "stdout",
     "output_type": "stream",
     "text": [
      "--------e--------\n",
      "------e-d-e------\n",
      "----e-d-c-d-e----\n",
      "--e-d-c-b-c-d-e--\n",
      "e-d-c-b-a-b-c-d-e\n",
      "--e-d-c-b-c-d-e--\n",
      "----e-d-c-d-e----\n",
      "------e-d-e------\n",
      "--------e--------\n"
     ]
    }
   ],
   "source": [
    "print_rangoli(5)"
   ]
  },
  {
   "cell_type": "markdown",
   "id": "ffc86bdc",
   "metadata": {},
   "source": [
    "# Problem 2"
   ]
  },
  {
   "cell_type": "code",
   "execution_count": 77,
   "id": "dd554dd4",
   "metadata": {},
   "outputs": [
    {
     "name": "stdout",
     "output_type": "stream",
     "text": [
      "6\n",
      "12521 68786 45854 9125219 10201 74147\n",
      "True\n"
     ]
    }
   ],
   "source": [
    "\n",
    "if __name__ == \"__main__\":\n",
    "    num_cnt = int(input().strip())\n",
    "    arr = list(input().strip().split())\n",
    "    print(all([all([int(x) > 0 for x in arr]), any([x == x[::-1] for x in arr])]))"
   ]
  },
  {
   "cell_type": "code",
   "execution_count": 78,
   "id": "bbe9cb27",
   "metadata": {},
   "outputs": [],
   "source": [
    "# # Input\n",
    "# 5\n",
    "# 1 2 3 2 1\n",
    "\n",
    "\n",
    "# # Input\n",
    "# 6\n",
    "# 12521 68786 45854 9125219 10201 74147"
   ]
  },
  {
   "cell_type": "code",
   "execution_count": 50,
   "id": "33d6f438",
   "metadata": {},
   "outputs": [
    {
     "name": "stdout",
     "output_type": "stream",
     "text": [
      "7\n",
      "7\n",
      "<class 'int'>\n"
     ]
    }
   ],
   "source": [
    "num_cnt = int(input().strip())\n",
    "\n",
    "print(num_cnt)\n",
    "print(type(num_cnt))\n"
   ]
  },
  {
   "cell_type": "code",
   "execution_count": 58,
   "id": "6c107881",
   "metadata": {},
   "outputs": [
    {
     "name": "stdout",
     "output_type": "stream",
     "text": [
      "5 0 21 7 9\n",
      "['5', '0', '21', '7', '9']\n",
      "<class 'list'>\n"
     ]
    }
   ],
   "source": [
    "arr = list(input().strip().split())\n",
    "print(arr)\n",
    "print(type(arr))\n",
    "\n",
    "# .strip(): This method is used to remove leading and trailing whitespaces from the input string. \n",
    "#     It ensures that any extra spaces or newline characters are removed."
   ]
  },
  {
   "cell_type": "code",
   "execution_count": 61,
   "id": "98cc0f72",
   "metadata": {},
   "outputs": [
    {
     "data": {
      "text/plain": [
       "True"
      ]
     },
     "execution_count": 61,
     "metadata": {},
     "output_type": "execute_result"
    }
   ],
   "source": [
    "all([int(x) >= 0 for x in arr])"
   ]
  },
  {
   "cell_type": "code",
   "execution_count": 70,
   "id": "2c2d9a56",
   "metadata": {},
   "outputs": [
    {
     "data": {
      "text/plain": [
       "False"
      ]
     },
     "execution_count": 70,
     "metadata": {},
     "output_type": "execute_result"
    }
   ],
   "source": [
    "rakesh=[False, False, False,False, False]\n",
    "any(rakesh)\n"
   ]
  },
  {
   "cell_type": "code",
   "execution_count": null,
   "id": "bbb794b2",
   "metadata": {},
   "outputs": [],
   "source": [
    "[int(x) >= 0 for x in arr]"
   ]
  },
  {
   "cell_type": "code",
   "execution_count": 75,
   "id": "f4ab05b7",
   "metadata": {},
   "outputs": [
    {
     "data": {
      "text/plain": [
       "True"
      ]
     },
     "execution_count": 75,
     "metadata": {},
     "output_type": "execute_result"
    }
   ],
   "source": [
    "x='7'\n",
    "int(x)>0"
   ]
  },
  {
   "cell_type": "markdown",
   "id": "a25cc338",
   "metadata": {},
   "source": [
    "# Problem 3"
   ]
  },
  {
   "cell_type": "code",
   "execution_count": 13,
   "id": "3da6f5e9",
   "metadata": {},
   "outputs": [
    {
     "name": "stdout",
     "output_type": "stream",
     "text": [
      "4 7 12\n",
      "SATURDAY\n"
     ]
    }
   ],
   "source": [
    "import calendar\n",
    "\n",
    "if __name__ == \"__main__\":\n",
    "    date = list(map(int, input().strip().split(' ')))\n",
    "    print(calendar.day_name[calendar.weekday(date[2], date[0], date[1])].upper())"
   ]
  },
  {
   "cell_type": "code",
   "execution_count": null,
   "id": "41f74f6d",
   "metadata": {},
   "outputs": [],
   "source": [
    "Input: month, day, year\n",
    "desired format: year, month, day\n",
    "calendar.weekday(2016, 5, 15)"
   ]
  },
  {
   "cell_type": "code",
   "execution_count": null,
   "id": "44f261e6",
   "metadata": {},
   "outputs": [],
   "source": [
    "# month day year\n",
    "# It uses the calendar.weekday() function to get the day of the week as an integer \n",
    "# (Monday is 0 and Sunday is 6) and then uses that integer to index into \n",
    "# calendar.day_name to get the corresponding day name."
   ]
  },
  {
   "cell_type": "code",
   "execution_count": 10,
   "id": "fa6bbf34",
   "metadata": {},
   "outputs": [
    {
     "data": {
      "text/plain": [
       "'WEDNESDAY'"
      ]
     },
     "execution_count": 10,
     "metadata": {},
     "output_type": "execute_result"
    }
   ],
   "source": [
    "calendar.day_name[calendar.weekday(4, 7, 21)].upper()"
   ]
  },
  {
   "cell_type": "code",
   "execution_count": 6,
   "id": "2a8e94f2",
   "metadata": {},
   "outputs": [
    {
     "data": {
      "text/plain": [
       "2"
      ]
     },
     "execution_count": 6,
     "metadata": {},
     "output_type": "execute_result"
    }
   ],
   "source": [
    "calendar.weekday(4, 7, 21)"
   ]
  },
  {
   "cell_type": "code",
   "execution_count": 2,
   "id": "53c57366",
   "metadata": {},
   "outputs": [
    {
     "name": "stdout",
     "output_type": "stream",
     "text": [
      "4 7 21\n",
      "[4, 7, 21]\n"
     ]
    }
   ],
   "source": [
    "date = list(map(int, input().strip().split(' ')))\n",
    "print(date)"
   ]
  },
  {
   "cell_type": "code",
   "execution_count": 4,
   "id": "32b1608d",
   "metadata": {},
   "outputs": [
    {
     "data": {
      "text/plain": [
       "(21, 4, 7)"
      ]
     },
     "execution_count": 4,
     "metadata": {},
     "output_type": "execute_result"
    }
   ],
   "source": [
    "date[2], date[0], date[1]"
   ]
  },
  {
   "cell_type": "markdown",
   "id": "b313c167",
   "metadata": {},
   "source": [
    "# Problem 4"
   ]
  },
  {
   "cell_type": "code",
   "execution_count": 22,
   "id": "3885bc5d",
   "metadata": {},
   "outputs": [],
   "source": [
    "def capitalize(string):\n",
    "    for word in string.split():\n",
    "        string = string.replace(word, word.capitalize())\n",
    "    return string"
   ]
  },
  {
   "cell_type": "code",
   "execution_count": 31,
   "id": "40849f43",
   "metadata": {},
   "outputs": [],
   "source": [
    "# str1='New Delhi is far away from chennai'\n",
    "# for i in str1:\n",
    "#     i=i.replace(i,i.capitalize())\n",
    "#     print(i, end=' ')"
   ]
  },
  {
   "cell_type": "code",
   "execution_count": 32,
   "id": "40d8ffbe",
   "metadata": {},
   "outputs": [],
   "source": [
    "# capitalize('shridhar and narendra are studying in sqaure')"
   ]
  },
  {
   "cell_type": "markdown",
   "id": "fb00eb3d",
   "metadata": {},
   "source": [
    "# Problem 5"
   ]
  },
  {
   "cell_type": "code",
   "execution_count": 36,
   "id": "0f136eb7",
   "metadata": {},
   "outputs": [
    {
     "name": "stdout",
     "output_type": "stream",
     "text": [
      "4\n",
      "1 3 7 8\n",
      "3\n",
      "1 7\n",
      "8 9\n",
      "5 8\n",
      "16\n"
     ]
    }
   ],
   "source": [
    "\n",
    "from collections import Counter\n",
    "\n",
    "if __name__ == \"__main__\":\n",
    "    X = int(input().strip())\n",
    "    shoes = list(map(int, input().strip().split()))\n",
    "    N = int(input().strip())\n",
    "    result = 0\n",
    "    \n",
    "    warhs = Counter(shoes)\n",
    "    for _ in range(N):\n",
    "        size, money = map(int, input().strip().split(' '))\n",
    "        1\n",
    "        if warhs[size] > 0:\n",
    "            result += money\n",
    "            warhs[size] -= 1\n",
    "        \n",
    "    print(result)"
   ]
  },
  {
   "cell_type": "code",
   "execution_count": null,
   "id": "ddb79ddb",
   "metadata": {},
   "outputs": [],
   "source": [
    "# Q. How many shoe sizes do you have?:  4\n",
    "# Ans: sizes availble are            :  1 3 7 8\n",
    "# Q. How many customers              :  3\n",
    "# Ans:size and their cost available  :  1 7\n",
    "#                                    :  8 9\n",
    "#                                    :  5 8\n",
    "# Total Sales:                       :  7+9=16"
   ]
  },
  {
   "cell_type": "markdown",
   "id": "025f28f1",
   "metadata": {},
   "source": [
    "# Problem 6"
   ]
  },
  {
   "cell_type": "code",
   "execution_count": 45,
   "id": "d103cb19",
   "metadata": {},
   "outputs": [
    {
     "name": "stdout",
     "output_type": "stream",
     "text": [
      "25 25 25 36 36 78 78 78 2\n",
      "(3, 25) (2, 36) (3, 78) (1, 2) "
     ]
    }
   ],
   "source": [
    "\n",
    "from itertools import groupby\n",
    "\n",
    "if __name__ == \"__main__\":\n",
    "    in_data = input().strip().split(' ')\n",
    "    \n",
    "    for el, el_list in groupby(in_data):\n",
    "        print((len(list(el_list)), int(el)), end=' ')"
   ]
  },
  {
   "cell_type": "code",
   "execution_count": null,
   "id": "bffbe3f8",
   "metadata": {},
   "outputs": [],
   "source": [
    "# i/p: 25 25 25 36 36 78 78 78 2\n",
    "# o/p: (3, 25) (2, 36) (3, 78) (1, 2)"
   ]
  },
  {
   "cell_type": "markdown",
   "id": "ad9751d5",
   "metadata": {},
   "source": [
    "# Problem 7"
   ]
  },
  {
   "cell_type": "code",
   "execution_count": 17,
   "id": "b1c2a9e4",
   "metadata": {},
   "outputs": [
    {
     "name": "stdout",
     "output_type": "stream",
     "text": [
      "6 4\n",
      "Ravi\n",
      "Kishan\n",
      "Sachin\n",
      "Priya\n",
      "Rohit\n",
      "Kapil\n",
      "Sachin\n",
      "3\n",
      "Kapil\n",
      "6\n",
      "Jyoti\n",
      "-1\n"
     ]
    },
    {
     "ename": "KeyboardInterrupt",
     "evalue": "Interrupted by user",
     "output_type": "error",
     "traceback": [
      "\u001b[1;31m---------------------------------------------------------------------------\u001b[0m",
      "\u001b[1;31mKeyboardInterrupt\u001b[0m                         Traceback (most recent call last)",
      "Cell \u001b[1;32mIn[17], line 12\u001b[0m\n\u001b[0;32m      9\u001b[0m     library[word]\u001b[38;5;241m.\u001b[39mappend(ind)\n\u001b[0;32m     11\u001b[0m \u001b[38;5;28;01mfor\u001b[39;00m ind \u001b[38;5;129;01min\u001b[39;00m \u001b[38;5;28mrange\u001b[39m(m):\n\u001b[1;32m---> 12\u001b[0m     word \u001b[38;5;241m=\u001b[39m \u001b[38;5;28minput\u001b[39m()\u001b[38;5;241m.\u001b[39mstrip()\n\u001b[0;32m     13\u001b[0m     \u001b[38;5;28;01mif\u001b[39;00m \u001b[38;5;28mlen\u001b[39m(library[word]) \u001b[38;5;241m>\u001b[39m \u001b[38;5;241m0\u001b[39m:\n\u001b[0;32m     14\u001b[0m         \u001b[38;5;28mprint\u001b[39m(\u001b[38;5;124m\"\u001b[39m\u001b[38;5;124m \u001b[39m\u001b[38;5;124m\"\u001b[39m\u001b[38;5;241m.\u001b[39mjoin(\u001b[38;5;28mmap\u001b[39m(\u001b[38;5;28mstr\u001b[39m, library[word])))\n",
      "File \u001b[1;32m~\\anaconda3\\Lib\\site-packages\\ipykernel\\kernelbase.py:1202\u001b[0m, in \u001b[0;36mKernel.raw_input\u001b[1;34m(self, prompt)\u001b[0m\n\u001b[0;32m   1200\u001b[0m     msg \u001b[38;5;241m=\u001b[39m \u001b[38;5;124m\"\u001b[39m\u001b[38;5;124mraw_input was called, but this frontend does not support input requests.\u001b[39m\u001b[38;5;124m\"\u001b[39m\n\u001b[0;32m   1201\u001b[0m     \u001b[38;5;28;01mraise\u001b[39;00m StdinNotImplementedError(msg)\n\u001b[1;32m-> 1202\u001b[0m \u001b[38;5;28;01mreturn\u001b[39;00m \u001b[38;5;28mself\u001b[39m\u001b[38;5;241m.\u001b[39m_input_request(\n\u001b[0;32m   1203\u001b[0m     \u001b[38;5;28mstr\u001b[39m(prompt),\n\u001b[0;32m   1204\u001b[0m     \u001b[38;5;28mself\u001b[39m\u001b[38;5;241m.\u001b[39m_parent_ident[\u001b[38;5;124m\"\u001b[39m\u001b[38;5;124mshell\u001b[39m\u001b[38;5;124m\"\u001b[39m],\n\u001b[0;32m   1205\u001b[0m     \u001b[38;5;28mself\u001b[39m\u001b[38;5;241m.\u001b[39mget_parent(\u001b[38;5;124m\"\u001b[39m\u001b[38;5;124mshell\u001b[39m\u001b[38;5;124m\"\u001b[39m),\n\u001b[0;32m   1206\u001b[0m     password\u001b[38;5;241m=\u001b[39m\u001b[38;5;28;01mFalse\u001b[39;00m,\n\u001b[0;32m   1207\u001b[0m )\n",
      "File \u001b[1;32m~\\anaconda3\\Lib\\site-packages\\ipykernel\\kernelbase.py:1245\u001b[0m, in \u001b[0;36mKernel._input_request\u001b[1;34m(self, prompt, ident, parent, password)\u001b[0m\n\u001b[0;32m   1242\u001b[0m \u001b[38;5;28;01mexcept\u001b[39;00m \u001b[38;5;167;01mKeyboardInterrupt\u001b[39;00m:\n\u001b[0;32m   1243\u001b[0m     \u001b[38;5;66;03m# re-raise KeyboardInterrupt, to truncate traceback\u001b[39;00m\n\u001b[0;32m   1244\u001b[0m     msg \u001b[38;5;241m=\u001b[39m \u001b[38;5;124m\"\u001b[39m\u001b[38;5;124mInterrupted by user\u001b[39m\u001b[38;5;124m\"\u001b[39m\n\u001b[1;32m-> 1245\u001b[0m     \u001b[38;5;28;01mraise\u001b[39;00m \u001b[38;5;167;01mKeyboardInterrupt\u001b[39;00m(msg) \u001b[38;5;28;01mfrom\u001b[39;00m \u001b[38;5;28;01mNone\u001b[39;00m\n\u001b[0;32m   1246\u001b[0m \u001b[38;5;28;01mexcept\u001b[39;00m \u001b[38;5;167;01mException\u001b[39;00m:\n\u001b[0;32m   1247\u001b[0m     \u001b[38;5;28mself\u001b[39m\u001b[38;5;241m.\u001b[39mlog\u001b[38;5;241m.\u001b[39mwarning(\u001b[38;5;124m\"\u001b[39m\u001b[38;5;124mInvalid Message:\u001b[39m\u001b[38;5;124m\"\u001b[39m, exc_info\u001b[38;5;241m=\u001b[39m\u001b[38;5;28;01mTrue\u001b[39;00m)\n",
      "\u001b[1;31mKeyboardInterrupt\u001b[0m: Interrupted by user"
     ]
    }
   ],
   "source": [
    "\n",
    "from collections import defaultdict\n",
    "\n",
    "if __name__ == \"__main__\":\n",
    "    n, m = map(int, input().strip().split(' '))\n",
    "    library = defaultdict(list)\n",
    "    \n",
    "    for ind in range(1, n + 1):\n",
    "        word = input().strip()\n",
    "        library[word].append(ind)\n",
    "    \n",
    "    for ind in range(m):\n",
    "        word = input().strip()\n",
    "        if len(library[word]) > 0:\n",
    "            print(\" \".join(map(str, library[word])))\n",
    "        else:\n",
    "            print(\"-1\")"
   ]
  },
  {
   "cell_type": "code",
   "execution_count": null,
   "id": "ff921d75",
   "metadata": {},
   "outputs": [],
   "source": [
    "The script then reads two space-separated integers, n=5 and m=3, from the user. \n",
    "n represents the number of words in the library, \n",
    "and m represents the number of queries."
   ]
  },
  {
   "cell_type": "code",
   "execution_count": 24,
   "id": "161df735",
   "metadata": {},
   "outputs": [
    {
     "name": "stdout",
     "output_type": "stream",
     "text": [
      "    1 8     \n"
     ]
    }
   ],
   "source": [
    "n, m = map(int, input().strip().split(' '))\n"
   ]
  },
  {
   "cell_type": "code",
   "execution_count": 25,
   "id": "76b75781",
   "metadata": {},
   "outputs": [
    {
     "name": "stdout",
     "output_type": "stream",
     "text": [
      "1 8\n"
     ]
    }
   ],
   "source": [
    "print(n,m)"
   ]
  },
  {
   "cell_type": "code",
   "execution_count": 27,
   "id": "3a9d607c",
   "metadata": {},
   "outputs": [
    {
     "data": {
      "text/plain": [
       "defaultdict(list, {})"
      ]
     },
     "execution_count": 27,
     "metadata": {},
     "output_type": "execute_result"
    }
   ],
   "source": [
    "library = defaultdict(list)\n",
    "library"
   ]
  },
  {
   "cell_type": "code",
   "execution_count": null,
   "id": "f5a63fea",
   "metadata": {},
   "outputs": [],
   "source": [
    "In Python, defaultdict is a class from the collections \n",
    "module that inherits from the built-in dict class. \n",
    "The primary difference between a regular dictionary (dict) and a \n",
    "defaultdict lies in how they handle missing keys.\n",
    "\n",
    "In a regular dictionary, if you try to access a key that \n",
    "doesn't exist, a KeyError is raised. On the other hand, a defaultdict allows \n",
    "you to specify a default value for any nonexistent key. \n",
    "This is achieved by providing a default factory function when creating the defaultdict."
   ]
  },
  {
   "cell_type": "code",
   "execution_count": 32,
   "id": "db24c706",
   "metadata": {},
   "outputs": [
    {
     "name": "stdout",
     "output_type": "stream",
     "text": [
      "Hello world Python is fun\n"
     ]
    }
   ],
   "source": [
    "# Example 1: Joining elements of a list with a space separator\n",
    "my_list = ['Hello', 'world', 'Python', 'is', 'fun']\n",
    "result_string = \" \".join(my_list)\n",
    "print(result_string)\n",
    "\n"
   ]
  },
  {
   "cell_type": "markdown",
   "id": "573c7a04",
   "metadata": {},
   "source": [
    "# Problem 8"
   ]
  },
  {
   "cell_type": "code",
   "execution_count": 47,
   "id": "4040b003",
   "metadata": {},
   "outputs": [
    {
     "name": "stdout",
     "output_type": "stream",
     "text": [
      "12\n",
      "----------------.|.-----------------\n",
      "-------------.|..|..|.--------------\n",
      "----------.|..|..|..|..|.-----------\n",
      "-------.|..|..|..|..|..|..|.--------\n",
      "----.|..|..|..|..|..|..|..|..|.-----\n",
      "-.|..|..|..|..|..|..|..|..|..|..|.--\n",
      "--------------WELCOME---------------\n",
      "---.|..|..|..|..|..|..|..|..|..|.---\n",
      "------.|..|..|..|..|..|..|..|.------\n",
      "---------.|..|..|..|..|..|.---------\n",
      "------------.|..|..|..|.------------\n",
      "---------------.|..|.---------------\n",
      "------------------------------------\n"
     ]
    }
   ],
   "source": [
    "N,M = map(int,input().split()) # More than 6 lines of code will result in 0 score. Blank lines are not counted.\n",
    "# N=int(input())\n",
    "for i in range(1, N, 2): \n",
    "    print((i*\".|.\").center(3*N, \"-\"))\n",
    "print (\"-WELCOME-\".center(3*N, \"-\"))\n",
    "for i in range(N - 2, -1, -2): \n",
    "    print((i*\".|.\").center(3*N, \"-\"))"
   ]
  },
  {
   "cell_type": "code",
   "execution_count": 43,
   "id": "6b2d7c39",
   "metadata": {},
   "outputs": [
    {
     "name": "stdout",
     "output_type": "stream",
     "text": [
      "---$$$---\n"
     ]
    }
   ],
   "source": [
    "print((3*\"$\").center(3*3, \"-\"))"
   ]
  },
  {
   "cell_type": "code",
   "execution_count": 45,
   "id": "04616b21",
   "metadata": {},
   "outputs": [
    {
     "data": {
      "text/plain": [
       "36"
      ]
     },
     "execution_count": 45,
     "metadata": {},
     "output_type": "execute_result"
    }
   ],
   "source": [
    "str1=\"----------------.|.-----------------\"\n",
    "len(str1)"
   ]
  },
  {
   "cell_type": "markdown",
   "id": "25ca0927",
   "metadata": {},
   "source": [
    "# Problem 9"
   ]
  },
  {
   "cell_type": "code",
   "execution_count": 54,
   "id": "94753603",
   "metadata": {},
   "outputs": [],
   "source": [
    "def count_substring(string, sub_string):\n",
    "    res = 0\n",
    "    len_sub = len(sub_string)\n",
    "    \n",
    "    for i in range(len(string) - len_sub + 1):\n",
    "        if string[i:i + len_sub] == sub_string:\n",
    "            res += 1\n",
    "        i += 1\n",
    "        \n",
    "    return res"
   ]
  },
  {
   "cell_type": "code",
   "execution_count": 55,
   "id": "05d83b0d",
   "metadata": {},
   "outputs": [
    {
     "data": {
      "text/plain": [
       "3"
      ]
     },
     "execution_count": 55,
     "metadata": {},
     "output_type": "execute_result"
    }
   ],
   "source": [
    "count_substring(\"Data Science is not Science related Subject, Science\",\"Science\")"
   ]
  },
  {
   "cell_type": "code",
   "execution_count": 51,
   "id": "17e5275f",
   "metadata": {},
   "outputs": [
    {
     "data": {
      "text/plain": [
       "6"
      ]
     },
     "execution_count": 51,
     "metadata": {},
     "output_type": "execute_result"
    }
   ],
   "source": [
    "len(\"Data Science\") - len(\"Science\") + 1"
   ]
  },
  {
   "cell_type": "code",
   "execution_count": 53,
   "id": "f80e6af3",
   "metadata": {},
   "outputs": [
    {
     "data": {
      "text/plain": [
       "4"
      ]
     },
     "execution_count": 53,
     "metadata": {},
     "output_type": "execute_result"
    }
   ],
   "source": [
    "10-7+1\n"
   ]
  },
  {
   "cell_type": "code",
   "execution_count": 52,
   "id": "3a172919",
   "metadata": {},
   "outputs": [
    {
     "data": {
      "text/plain": [
       "7"
      ]
     },
     "execution_count": 52,
     "metadata": {},
     "output_type": "execute_result"
    }
   ],
   "source": [
    "len(\"Science\")"
   ]
  },
  {
   "cell_type": "markdown",
   "id": "5a0a81e4",
   "metadata": {},
   "source": [
    "# Problem 10"
   ]
  },
  {
   "cell_type": "code",
   "execution_count": 1,
   "id": "0a0d8d6a",
   "metadata": {},
   "outputs": [],
   "source": [
    "def get_avg(marks, student):\n",
    "    return (sum(marks[student])/len(marks[student]))\n",
    "\n"
   ]
  },
  {
   "cell_type": "code",
   "execution_count": null,
   "id": "0fb1128e",
   "metadata": {},
   "outputs": [],
   "source": [
    "if __name__ == '__main__':\n",
    "    n = int(input())\n",
    "    student_marks = {}\n",
    "    for _ in range(n):\n",
    "        name, *line = input().split()\n",
    "        scores = list(map(float, line))\n",
    "        student_marks[name] = scores\n",
    "    print(student_marks)\n",
    "    query_name = input()\n",
    "    print(\"{:.6f}\".format(get_avg(student_marks, query_name)))"
   ]
  },
  {
   "cell_type": "code",
   "execution_count": null,
   "id": "470cd333",
   "metadata": {},
   "outputs": [],
   "source": [
    "3\n",
    "John 89 90 78\n",
    "Alice 88 91 72\n",
    "Bob 92 85 79\n",
    "Alice\n"
   ]
  },
  {
   "cell_type": "code",
   "execution_count": 19,
   "id": "41f32cb6",
   "metadata": {},
   "outputs": [
    {
     "name": "stdout",
     "output_type": "stream",
     "text": [
      "83.666666666667\n"
     ]
    }
   ],
   "source": [
    "value=(88+91+72)/3\n",
    "value\n",
    "print(\"{:.12f}\".format(value))"
   ]
  },
  {
   "cell_type": "code",
   "execution_count": 12,
   "id": "650c2130",
   "metadata": {},
   "outputs": [
    {
     "data": {
      "text/plain": [
       "12"
      ]
     },
     "execution_count": 12,
     "metadata": {},
     "output_type": "execute_result"
    }
   ],
   "source": [
    "list2=[41.0, 78.0, 92.0,12,78]\n",
    "min(list2)"
   ]
  },
  {
   "cell_type": "code",
   "execution_count": 8,
   "id": "0623be8c",
   "metadata": {},
   "outputs": [
    {
     "data": {
      "text/plain": [
       "5"
      ]
     },
     "execution_count": 8,
     "metadata": {},
     "output_type": "execute_result"
    }
   ],
   "source": [
    "len(list2)"
   ]
  },
  {
   "cell_type": "markdown",
   "id": "8e0faa8b",
   "metadata": {},
   "source": [
    "# Problem 11"
   ]
  },
  {
   "cell_type": "code",
   "execution_count": 33,
   "id": "3ea744e2",
   "metadata": {},
   "outputs": [
    {
     "name": "stdout",
     "output_type": "stream",
     "text": [
      "5\n",
      "1 2 8 9 4\n",
      "8\n",
      "[1, 2, 8, 9, 4]\n"
     ]
    }
   ],
   "source": [
    "if __name__ == '__main__':\n",
    "    n = int(input())\n",
    "    arr = list(map(int, input().split()))\n",
    "    first = max(arr)\n",
    "    \n",
    "    print(max(list(filter(lambda a: a != first, arr))))\n",
    "    "
   ]
  },
  {
   "cell_type": "code",
   "execution_count": null,
   "id": "ef7805c6",
   "metadata": {},
   "outputs": [],
   "source": [
    "\n",
    "    "
   ]
  },
  {
   "cell_type": "code",
   "execution_count": 22,
   "id": "7370a200",
   "metadata": {},
   "outputs": [],
   "source": [
    "# When you run this input through the script, \n",
    "# it should output the second largest element in the array"
   ]
  },
  {
   "cell_type": "code",
   "execution_count": 28,
   "id": "c8298e11",
   "metadata": {},
   "outputs": [
    {
     "name": "stdout",
     "output_type": "stream",
     "text": [
      "3\n",
      "5 1 9\n"
     ]
    },
    {
     "data": {
      "text/plain": [
       "9"
      ]
     },
     "execution_count": 28,
     "metadata": {},
     "output_type": "execute_result"
    }
   ],
   "source": [
    "n = int(input())\n",
    "arr = list(map(int, input().split()))\n",
    "first = max(arr)\n",
    "first"
   ]
  },
  {
   "cell_type": "code",
   "execution_count": 26,
   "id": "938c70e4",
   "metadata": {},
   "outputs": [
    {
     "data": {
      "text/plain": [
       "list"
      ]
     },
     "execution_count": 26,
     "metadata": {},
     "output_type": "execute_result"
    }
   ],
   "source": [
    "type(arr)"
   ]
  },
  {
   "cell_type": "code",
   "execution_count": 32,
   "id": "bac6b0bc",
   "metadata": {},
   "outputs": [
    {
     "name": "stdout",
     "output_type": "stream",
     "text": [
      "[5, 9, 10, 12, 3, 9]\n",
      "12\n"
     ]
    }
   ],
   "source": [
    "arr=[5 ,1 ,9,10,12,3,9]\n",
    "first=min(arr)\n",
    "list2=list(filter(lambda a: a != first, arr))\n",
    "print(list2)\n",
    "print(max(list2))\n",
    "# max(list(filter(lambda a: a != first, arr)))"
   ]
  },
  {
   "cell_type": "markdown",
   "id": "17ce64f8",
   "metadata": {},
   "source": [
    "# Problem 12"
   ]
  },
  {
   "cell_type": "code",
   "execution_count": 43,
   "id": "3646ecbf",
   "metadata": {},
   "outputs": [
    {
     "name": "stdout",
     "output_type": "stream",
     "text": [
      "3.4999999999\n",
      "[3.]\n",
      "[4.]\n",
      "[3.]\n"
     ]
    }
   ],
   "source": [
    "import numpy as np\n",
    "\n",
    "array = np.array(list(input().strip().split()), dtype = float)\n",
    "                 \n",
    "print(np.floor(array))\n",
    "print(np.ceil(array))\n",
    "print(np.rint(array))"
   ]
  },
  {
   "cell_type": "code",
   "execution_count": 38,
   "id": "64fdfbbb",
   "metadata": {},
   "outputs": [],
   "source": [
    "# When you run this input through the script, it should output \n",
    "# the floor, ceiling, and \n",
    "# rounded values for each element in the array. "
   ]
  },
  {
   "cell_type": "markdown",
   "id": "4db231ca",
   "metadata": {},
   "source": [
    "# Problem 13"
   ]
  },
  {
   "cell_type": "code",
   "execution_count": 44,
   "id": "486005dc",
   "metadata": {},
   "outputs": [
    {
     "name": "stdout",
     "output_type": "stream",
     "text": [
      "aB2C3dE4\n",
      "adBCE324\n"
     ]
    }
   ],
   "source": [
    "if __name__ == \"__main__\":\n",
    "    string = input().strip()\n",
    "    \n",
    "    print(*sorted(string, key = lambda x: (-x.islower(), x.isdigit() - x.isupper(), x in '02468', x)), sep='')"
   ]
  },
  {
   "cell_type": "code",
   "execution_count": 46,
   "id": "2b553389",
   "metadata": {},
   "outputs": [
    {
     "data": {
      "text/plain": [
       "['a', 'k', 'p', 'y']"
      ]
     },
     "execution_count": 46,
     "metadata": {},
     "output_type": "execute_result"
    }
   ],
   "source": [
    "# list2=[5, 2,1,3, 7,9]\n",
    "list2=['k','a','p','y']\n",
    "list2=sorted(list2)\n",
    "list2"
   ]
  },
  {
   "cell_type": "markdown",
   "id": "837d900d",
   "metadata": {},
   "source": [
    "# Problem 14"
   ]
  },
  {
   "cell_type": "code",
   "execution_count": 28,
   "id": "ebb1e8bf",
   "metadata": {},
   "outputs": [
    {
     "name": "stdout",
     "output_type": "stream",
     "text": [
      "3 8\n",
      "x*x*x+3*x+5\n",
      "False\n"
     ]
    }
   ],
   "source": [
    "if __name__ == \"__main__\":\n",
    "    x, k = map(int, input().strip().split())\n",
    "    string = input().strip()\n",
    "    \n",
    "    if eval(string) == k:\n",
    "        print(True)\n",
    "    else:\n",
    "        print(False)"
   ]
  },
  {
   "cell_type": "code",
   "execution_count": null,
   "id": "4bc6efc8",
   "metadata": {},
   "outputs": [],
   "source": [
    "first element=value of x: 2\n",
    "Second element=is this expression evaluate 5 with above value: x**2+1=2**2+1"
   ]
  },
  {
   "cell_type": "code",
   "execution_count": 5,
   "id": "b409e6a1",
   "metadata": {},
   "outputs": [
    {
     "data": {
      "text/plain": [
       "42"
      ]
     },
     "execution_count": 5,
     "metadata": {},
     "output_type": "execute_result"
    }
   ],
   "source": [
    "4*3+7*3+9"
   ]
  },
  {
   "cell_type": "code",
   "execution_count": 14,
   "id": "41c8dfb6",
   "metadata": {},
   "outputs": [
    {
     "name": "stdout",
     "output_type": "stream",
     "text": [
      "     7 2    \n",
      "7\n",
      "2\n"
     ]
    }
   ],
   "source": [
    "x, k = map(int, input().strip().split())\n",
    "print(x)\n",
    "print(k)"
   ]
  },
  {
   "cell_type": "code",
   "execution_count": 25,
   "id": "35450137",
   "metadata": {},
   "outputs": [
    {
     "data": {
      "text/plain": [
       "-0.9880316240928618"
      ]
     },
     "execution_count": 25,
     "metadata": {},
     "output_type": "execute_result"
    }
   ],
   "source": [
    "import numpy as np\n",
    "x=30\n",
    "\n",
    "eval('np.sin(30)')"
   ]
  },
  {
   "cell_type": "code",
   "execution_count": 17,
   "id": "a289057c",
   "metadata": {},
   "outputs": [
    {
     "data": {
      "text/plain": [
       "86"
      ]
     },
     "execution_count": 17,
     "metadata": {},
     "output_type": "execute_result"
    }
   ],
   "source": [
    "4*7+7*7+9"
   ]
  },
  {
   "cell_type": "code",
   "execution_count": 22,
   "id": "5d7f0d2c",
   "metadata": {},
   "outputs": [
    {
     "data": {
      "text/plain": [
       "-0.9880316240928618"
      ]
     },
     "execution_count": 22,
     "metadata": {},
     "output_type": "execute_result"
    }
   ],
   "source": [
    "import numpy as np\n",
    "x=30\n",
    "np.sin(30)"
   ]
  },
  {
   "cell_type": "code",
   "execution_count": 24,
   "id": "6e4852ae",
   "metadata": {},
   "outputs": [
    {
     "data": {
      "text/plain": [
       "-0.9880316240928618"
      ]
     },
     "execution_count": 24,
     "metadata": {},
     "output_type": "execute_result"
    }
   ],
   "source": [
    "import math as mt\n",
    "mt.sin(x)"
   ]
  },
  {
   "cell_type": "markdown",
   "id": "62662ce6",
   "metadata": {},
   "source": [
    "# Problem 15"
   ]
  },
  {
   "cell_type": "code",
   "execution_count": 33,
   "id": "9179194c",
   "metadata": {},
   "outputs": [
    {
     "name": "stdout",
     "output_type": "stream",
     "text": [
      "2\n",
      "2\n",
      "2\n",
      "3\n",
      "[[0, 1, 2], [0, 2, 1], [1, 0, 2], [1, 1, 1], [1, 2, 0], [2, 0, 1], [2, 1, 0]]\n"
     ]
    }
   ],
   "source": [
    "if __name__ == '__main__':\n",
    "    x = int(input())\n",
    "    y = int(input())\n",
    "    z = int(input())\n",
    "    n = int(input())\n",
    "    \n",
    "    print([ [ i, j, k] for i in range(x + 1) for j in range(y + 1) for k in range(z + 1) if ( (i + j + k) == n )])"
   ]
  },
  {
   "cell_type": "code",
   "execution_count": null,
   "id": "ea837f44",
   "metadata": {},
   "outputs": [],
   "source": [
    "These values represent the dimensions of a 3D space (x, y, z), \n",
    "and the code will generate all possible combinations of i, j, \n",
    "and k within the specified ranges (0 to x, 0 to y, and 0 to z), \n",
    "excluding the combinations where the sum of i, j, and k equals n."
   ]
  },
  {
   "cell_type": "code",
   "execution_count": 40,
   "id": "a977fe23",
   "metadata": {},
   "outputs": [
    {
     "name": "stdout",
     "output_type": "stream",
     "text": [
      "[[2, 3, 4, 8], [2, 3, 4, 8]]\n"
     ]
    }
   ],
   "source": [
    "print([ [2, 3, 4, 8] for i in range(2) if i != 10 ])\n"
   ]
  },
  {
   "cell_type": "code",
   "execution_count": 42,
   "id": "06e501e6",
   "metadata": {},
   "outputs": [
    {
     "name": "stdout",
     "output_type": "stream",
     "text": [
      "[1, 9, 25, 49, 81]\n"
     ]
    }
   ],
   "source": [
    "# List comprehension example\n",
    "start_range = 1\n",
    "end_range = 10\n",
    "\n",
    "# Generate a list of squares for even numbers in the range\n",
    "squares_of_evens = [x**2 for x in range(start_range, end_range) if x % 2 != 0]\n",
    "\n",
    "# Print the result\n",
    "print(squares_of_evens)\n"
   ]
  },
  {
   "cell_type": "markdown",
   "id": "c3a8ca70",
   "metadata": {},
   "source": [
    "# Problem 16"
   ]
  },
  {
   "cell_type": "code",
   "execution_count": 44,
   "id": "87f2ce36",
   "metadata": {},
   "outputs": [],
   "source": [
    "def is_vowel(letter):\n",
    "    return letter in ['a', 'e', 'i', 'o', 'u', 'y']\n",
    "\n",
    "def score_words(words):\n",
    "    score = 0\n",
    "    for word in words:\n",
    "        num_vowels = 0\n",
    "        for letter in word:\n",
    "            if is_vowel(letter):\n",
    "                num_vowels += 1\n",
    "        if num_vowels % 2 == 0:\n",
    "            score += 2\n",
    "        else:\n",
    "            score += 1\n",
    "    return score"
   ]
  },
  {
   "cell_type": "code",
   "execution_count": 45,
   "id": "7cd60bf7",
   "metadata": {},
   "outputs": [
    {
     "name": "stdout",
     "output_type": "stream",
     "text": [
      "Score: 6\n"
     ]
    }
   ],
   "source": [
    "# Sample input\n",
    "word_list = [\"hello\", \"world\", \"python\", \"programming\"]\n",
    "e:1\n",
    "o:4\n",
    "y:1\n",
    "a:1\n",
    "i:1\n",
    "\n",
    "# Calculate the score using the provided functions\n",
    "result_score = score_words(word_list)\n",
    "\n",
    "# Display the result\n",
    "print(\"Score:\", result_score)\n"
   ]
  },
  {
   "cell_type": "code",
   "execution_count": 46,
   "id": "d6719afc",
   "metadata": {},
   "outputs": [
    {
     "name": "stdout",
     "output_type": "stream",
     "text": [
      "7\n"
     ]
    }
   ],
   "source": [
    "words = ['hello', 'world', 'python', 'programming', 'example']\n",
    "result = score_words(words)\n",
    "print(result)\n"
   ]
  },
  {
   "cell_type": "code",
   "execution_count": null,
   "id": "757686e6",
   "metadata": {},
   "outputs": [],
   "source": [
    "For the sample input, the function calculates the score for each word:\n",
    "'hello': 2 vowels (even) -> score += 2  score=2\n",
    "'world': 1 vowel (odd) -> score += 1    score=1\n",
    "'python': 1 vowel (odd) -> score += 1   score=1\n",
    "'programming': 3 vowels (odd) -> score += 1   score=1\n",
    "'example': 3 vowels (odd) -> score += 1     score=1\n",
    "The total score is printed, which is the sum of the individual scores for each word."
   ]
  },
  {
   "cell_type": "code",
   "execution_count": null,
   "id": "b26f6a17",
   "metadata": {},
   "outputs": [],
   "source": [
    "The provided code defines two functions: is_vowel \n",
    "    and score_words. The is_vowel function checks if a given letter \n",
    "    is a vowel (either 'a', 'e', 'i', 'o', 'u', or 'y'). \n",
    "    The score_words function takes a list of words as input and \n",
    "    calculates a score based on the number of vowels in each word."
   ]
  },
  {
   "cell_type": "code",
   "execution_count": null,
   "id": "4a3c51d1",
   "metadata": {},
   "outputs": [],
   "source": [
    "In this example, the word_list contains four words.\n",
    "The score_words function calculates the score based on the number \n",
    "of vowels in each word, and the final result is printed. \n",
    "You can replace the word_list with any list \n",
    "of words you want to test the scoring function with."
   ]
  }
 ],
 "metadata": {
  "kernelspec": {
   "display_name": "Python 3 (ipykernel)",
   "language": "python",
   "name": "python3"
  },
  "language_info": {
   "codemirror_mode": {
    "name": "ipython",
    "version": 3
   },
   "file_extension": ".py",
   "mimetype": "text/x-python",
   "name": "python",
   "nbconvert_exporter": "python",
   "pygments_lexer": "ipython3",
   "version": "3.11.5"
  }
 },
 "nbformat": 4,
 "nbformat_minor": 5
}
